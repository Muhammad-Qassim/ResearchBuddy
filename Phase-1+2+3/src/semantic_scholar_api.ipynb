{
 "cells": [
  {
   "cell_type": "code",
   "execution_count": 5,
   "metadata": {},
   "outputs": [],
   "source": [
    "import requests"
   ]
  },
  {
   "cell_type": "code",
   "execution_count": null,
   "metadata": {},
   "outputs": [],
   "source": [
    "API_KEY = \"API-KEY\"  \n",
    "BASE_URL = \"https://api.semanticscholar.org/graph/v1\""
   ]
  },
  {
   "cell_type": "code",
   "execution_count": 7,
   "metadata": {},
   "outputs": [],
   "source": [
    "def get_top_papers(query, max_results=5):\n",
    "    \"\"\"\n",
    "    Search for top papers on a given topic and return metadata.\n",
    "    \"\"\"\n",
    "    url = f\"{BASE_URL}/paper/search\"\n",
    "    headers = {\"x-api-key\": API_KEY}\n",
    "    \n",
    "    params = {\n",
    "        \"query\": query,\n",
    "        \"fields\": \"title,authors,citationCount,abstract,url,publicationVenue,year\",\n",
    "        \"limit\": max_results\n",
    "    }\n",
    "\n",
    "    response = requests.get(url, headers=headers, params=params)\n",
    "    \n",
    "    if response.status_code == 200:\n",
    "        papers = response.json().get(\"data\", [])    \n",
    "        return sorted(papers, key=lambda x: x[\"citationCount\"], reverse=True)[:max_results]    \n",
    "    else:\n",
    "        print(f\"Error: {response.status_code}, {response.json()}\")\n",
    "        return []"
   ]
  },
  {
   "cell_type": "code",
   "execution_count": 8,
   "metadata": {},
   "outputs": [
    {
     "name": "stdout",
     "output_type": "stream",
     "text": [
      "Paper 1:\n",
      "   Title: UNet++: A Nested U-Net Architecture for Medical Image Segmentation\n",
      "   Authors: ['Zongwei Zhou', 'M. R. Siddiquee', 'Nima Tajbakhsh', 'Jianming Liang']\n",
      "   Year: 2018\n",
      "   Citations: 5362\n",
      "   URL: https://www.semanticscholar.org/paper/a6876ea89e677a7cc42dd43f27165ff6fd414de5\n",
      "--------------------------------------------------------------------------------\n"
     ]
    }
   ],
   "source": [
    "query = \"unet\"\n",
    "top_papers = get_top_papers(query, max_results=1)\n",
    "\n",
    "for i, paper in enumerate(top_papers, start=1):\n",
    "    print(f\"Paper {i}:\")\n",
    "    print(f\"   Title: {paper['title']}\")\n",
    "    print(f\"   Authors: {[author['name'] for author in paper['authors']]}\")\n",
    "    print(f\"   Year: {paper['year']}\")\n",
    "    print(f\"   Citations: {paper['citationCount']}\")\n",
    "    print(f\"   URL: {paper['url']}\")\n",
    "    \n",
    "    print(\"-\" * 80)"
   ]
  }
 ],
 "metadata": {
  "kernelspec": {
   "display_name": ".venv",
   "language": "python",
   "name": "python3"
  },
  "language_info": {
   "codemirror_mode": {
    "name": "ipython",
    "version": 3
   },
   "file_extension": ".py",
   "mimetype": "text/x-python",
   "name": "python",
   "nbconvert_exporter": "python",
   "pygments_lexer": "ipython3",
   "version": "3.12.6"
  }
 },
 "nbformat": 4,
 "nbformat_minor": 2
}
