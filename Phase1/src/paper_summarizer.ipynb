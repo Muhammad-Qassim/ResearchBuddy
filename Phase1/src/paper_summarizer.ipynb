{
 "cells": [
  {
   "cell_type": "markdown",
   "metadata": {},
   "source": [
    "## Import Required Libraries\n"
   ]
  },
  {
   "cell_type": "code",
   "execution_count": 28,
   "metadata": {},
   "outputs": [],
   "source": [
    "from transformers import T5ForConditionalGeneration, T5Tokenizer\n",
    "import requests\n",
    "import xml.etree.ElementTree as ET\n",
    "from pdfminer.high_level import extract_text\n",
    "import os\n",
    "from peft import PeftModel, PeftConfig\n",
    "from transformers import (\n",
    "    AutoModelForSeq2SeqLM,\n",
    "    AutoTokenizer\n",
    ")"
   ]
  },
  {
   "cell_type": "markdown",
   "metadata": {},
   "source": [
    "## Set Search Query"
   ]
  },
  {
   "cell_type": "code",
   "execution_count": 29,
   "metadata": {},
   "outputs": [],
   "source": [
    "query = \"finance\""
   ]
  },
  {
   "cell_type": "markdown",
   "metadata": {},
   "source": [
    "## Fetching Papers\n",
    "Function to Fetch ArXiv Papers"
   ]
  },
  {
   "cell_type": "code",
   "execution_count": 30,
   "metadata": {},
   "outputs": [],
   "source": [
    "def fetch_arxiv_papers(query):\n",
    "    \"\"\"\"\n",
    "    Fetches the arXiv papers for the given query\n",
    "\n",
    "    Args:\n",
    "        query (str): The query to search arXiv for papers\n",
    "        \n",
    "    Returns:\n",
    "        pdf_links (list): List of pdf links for the papers\n",
    "    \"\"\"\n",
    "\n",
    "    url = f\"http://export.arxiv.org/api/query?search_query={query}&start=0&max_results=1\"\n",
    "\n",
    "    response = requests.get(url)\n",
    "    if response.status_code != 200:\n",
    "        print(\"Failed to fetch data from arXiv\")\n",
    "        return []\n",
    "\n",
    "    root = ET.fromstring(response.text)\n",
    "    pdf_links = []\n",
    "    for entry in root.findall(\"{http://www.w3.org/2005/Atom}entry\"):\n",
    "        for link in entry.findall(\"{http://www.w3.org/2005/Atom}link\"):\n",
    "            if link.attrib.get(\"title\") == \"pdf\":\n",
    "                pdf_links.append(link.attrib[\"href\"])\n",
    "\n",
    "    return pdf_links"
   ]
  },
  {
   "cell_type": "markdown",
   "metadata": {},
   "source": [
    "Fetch PDF Links"
   ]
  },
  {
   "cell_type": "code",
   "execution_count": 31,
   "metadata": {},
   "outputs": [
    {
     "name": "stdout",
     "output_type": "stream",
     "text": [
      "Found PDF link: http://arxiv.org/pdf/1710.03211v2\n"
     ]
    }
   ],
   "source": [
    "pdf_links = fetch_arxiv_papers(query)\n",
    "if pdf_links:\n",
    "    print(f\"Found PDF link: {pdf_links[0]}\")\n",
    "else:\n",
    "    print(\"No PDF links found.\")"
   ]
  },
  {
   "cell_type": "markdown",
   "metadata": {},
   "source": [
    "Download PDF File\n"
   ]
  },
  {
   "cell_type": "code",
   "execution_count": 32,
   "metadata": {},
   "outputs": [
    {
     "name": "stdout",
     "output_type": "stream",
     "text": [
      "PDF saved to 1.pdf\n"
     ]
    }
   ],
   "source": [
    "pdf_file = \"1.pdf\"\n",
    "\n",
    "response = requests.get(pdf_links[0])\n",
    "\n",
    "if response.status_code == 200:\n",
    "    with open(pdf_file, \"wb\") as f:\n",
    "        f.write(response.content)\n",
    "    print(f\"PDF saved to {pdf_file}\")\n",
    "else:\n",
    "    print(\"Failed to fetch PDF\")"
   ]
  },
  {
   "cell_type": "markdown",
   "metadata": {},
   "source": [
    "Extract Text from PDF"
   ]
  },
  {
   "cell_type": "code",
   "execution_count": 33,
   "metadata": {},
   "outputs": [],
   "source": [
    "pdf_path = \"1.pdf\"\n",
    "text = extract_text(pdf_path)"
   ]
  },
  {
   "cell_type": "markdown",
   "metadata": {},
   "source": [
    "## Model 1: T5-small\n",
    "Loading the fine-tuned T5-small model for summarization"
   ]
  },
  {
   "cell_type": "code",
   "execution_count": 34,
   "metadata": {},
   "outputs": [],
   "source": [
    "model1 = T5ForConditionalGeneration.from_pretrained(\"../practice/t5-small-finetuned-arxiv\")\n",
    "model_checkpoint1 = \"t5-small\"\n",
    "tokenizer = AutoTokenizer.from_pretrained(model_checkpoint1)"
   ]
  },
  {
   "cell_type": "markdown",
   "metadata": {},
   "source": [
    "Summarization Function for T5-small"
   ]
  },
  {
   "cell_type": "code",
   "execution_count": 35,
   "metadata": {},
   "outputs": [],
   "source": [
    "def test_summary_t5_small(input_text):\n",
    "    \"\"\"\n",
    "    Generates a summary for the given input text using the T5 small model\n",
    "\n",
    "    Args:\n",
    "        input_text (str): The input text to summarize\n",
    "\n",
    "    Returns:\n",
    "        str: The generated summary\n",
    "    \"\"\"\n",
    "    inputs = tokenizer(\n",
    "        \"summarize: \" + input_text,\n",
    "        max_length=512,\n",
    "        truncation=True,\n",
    "        return_tensors=\"pt\"\n",
    "    )\n",
    "    \n",
    "    outputs = model1.generate(\n",
    "        inputs.input_ids,\n",
    "        max_new_tokens=512,\n",
    "        do_sample=True,\n",
    "        top_p=0.9,\n",
    "\n",
    "    )\n",
    "    \n",
    "    return tokenizer.decode(outputs[0], skip_special_tokens=True)"
   ]
  },
  {
   "cell_type": "markdown",
   "metadata": {},
   "source": [
    "## Model 2: FLAN-T5-base\n",
    "Load the PEFT-tuned FLAN-T5-base model"
   ]
  },
  {
   "cell_type": "code",
   "execution_count": 36,
   "metadata": {},
   "outputs": [],
   "source": [
    "peft_model_id = \"../practice/results\" \n",
    "config = PeftConfig.from_pretrained(peft_model_id)\n",
    "\n",
    "model2 = AutoModelForSeq2SeqLM.from_pretrained(\n",
    "    config.base_model_name_or_path,\n",
    "    device_map=\"auto\" \n",
    ")\n",
    "tokenizer = AutoTokenizer.from_pretrained(config.base_model_name_or_path)\n",
    "\n",
    "model2 = PeftModel.from_pretrained(model2, peft_model_id)"
   ]
  },
  {
   "cell_type": "markdown",
   "metadata": {},
   "source": [
    "Define Summarization Function for FLAN-T5-base"
   ]
  },
  {
   "cell_type": "code",
   "execution_count": 37,
   "metadata": {},
   "outputs": [],
   "source": [
    "def test_summary_FLAN_T5_base(input_text):\n",
    "    \"\"\"\n",
    "    Generates a summary for the given input text using the FLAN T5 base model\n",
    "\n",
    "    Args:\n",
    "        input_text (str): The input text to summarize\n",
    "\n",
    "    Returns:\n",
    "        str: The generated summary\n",
    "    \"\"\"\n",
    "    inputs = tokenizer(\n",
    "        \"summarize: \" + input_text,\n",
    "        max_length=1024,\n",
    "        truncation=True,\n",
    "        return_tensors=\"pt\"\n",
    "    )\n",
    "\n",
    "    outputs = model2.generate(\n",
    "        input_ids=inputs.input_ids, \n",
    "        max_new_tokens=512,\n",
    "        do_sample=True,\n",
    "        top_p=0.9\n",
    "    )\n",
    "\n",
    "    return tokenizer.decode(outputs[0], skip_special_tokens=True)"
   ]
  },
  {
   "cell_type": "markdown",
   "metadata": {},
   "source": [
    "Generate Summaries Using Both Models"
   ]
  },
  {
   "cell_type": "code",
   "execution_count": 38,
   "metadata": {},
   "outputs": [],
   "source": [
    "summary_t5_small = test_summary_t5_small(text)"
   ]
  },
  {
   "cell_type": "code",
   "execution_count": 39,
   "metadata": {},
   "outputs": [],
   "source": [
    "summary_FLAN_T5_base = test_summary_FLAN_T5_base(text)"
   ]
  },
  {
   "cell_type": "markdown",
   "metadata": {},
   "source": [
    "Print Generated Summaries"
   ]
  },
  {
   "cell_type": "code",
   "execution_count": 40,
   "metadata": {},
   "outputs": [
    {
     "name": "stdout",
     "output_type": "stream",
     "text": [
      "Summary from T5-small: behavioral finance has three main objections to the theory of rational finance . the rational finance does not explain the predictability of asset returns . the theories are considered as anomalies and they are available to determine the difference between rationalistic and behavioralists . the problems relating to the theory of rational finance will be addressed in a multigenerational economy .\n"
     ]
    }
   ],
   "source": [
    "print(f\"Summary from T5-small: {summary_t5_small}\")"
   ]
  },
  {
   "cell_type": "code",
   "execution_count": 41,
   "metadata": {},
   "outputs": [
    {
     "name": "stdout",
     "output_type": "stream",
     "text": [
      "Summary from FLAN-T5-base: **Main Research Objective:** To address the three main objections of behavioral finance to the theory of rational finance: (i) Predictability of asset returns; (ii) The Equity Premium; and (iii) The Volatility Puzzle. **Methodology:** * Developed a systematic approach to address all three objections: * Provided an explanation for the \"anomalies\" in rational finance utilizing statistical models. * Introduced statistical tools in the rational theory of finance to provide empirical evidence of non-rational chooses. * Provided a statistical framework to analyze whether and how behavioral finance can be applied in such situations. **Key Findings:** * Behavioral finance is a structural model of financial finance that is widely used and often criticized. * The behavioral finance model is based on the behavioral finance principles of the financial world. * Behavioral finance is the principal tool for generating financial data, and is commonly used as a method to help understand financial patterns. **Conclusions:** The paper provides a new approach to the behavioral finance theory. It addresses the four main objections to rational finance: * Predictability of asset returns; Equity Premium; and Volatility Puzzle. * Behavioral finance is an approach that focuses on the properties of financial markets that are characterized by their relative complexity. * Behavioral finance provides a new paradigm for assessing financial trends that are different from conventional financial models. * Behavioral finance is an alternative to standard financial model that includes factors such as time and market variables. * Behavioral finance leverages existing approaches such as behavioral and probability theory to provide empirical evidence for the behavior of the financial markets. **Conclusions:** * The rational finance model offers solutions to the three objections to rational finance. * The rational finance model is more sophisticated than behavioral finance, offering a range of insights on the behavior of the financial markets. * The research offers an approach to economics and behavioral finance that allows for a more accurate understanding of financial behavior and the dynamics of investment and risk.\n"
     ]
    }
   ],
   "source": [
    "print(f\"Summary from FLAN-T5-base: {summary_FLAN_T5_base}\")"
   ]
  },
  {
   "cell_type": "markdown",
   "metadata": {},
   "source": [
    "Cleanup: Remove Downloaded PDF"
   ]
  },
  {
   "cell_type": "code",
   "execution_count": 42,
   "metadata": {},
   "outputs": [],
   "source": [
    "os.remove(pdf_file)"
   ]
  }
 ],
 "metadata": {
  "kernelspec": {
   "display_name": ".venv",
   "language": "python",
   "name": "python3"
  },
  "language_info": {
   "codemirror_mode": {
    "name": "ipython",
    "version": 3
   },
   "file_extension": ".py",
   "mimetype": "text/x-python",
   "name": "python",
   "nbconvert_exporter": "python",
   "pygments_lexer": "ipython3",
   "version": "3.12.6"
  }
 },
 "nbformat": 4,
 "nbformat_minor": 2
}
